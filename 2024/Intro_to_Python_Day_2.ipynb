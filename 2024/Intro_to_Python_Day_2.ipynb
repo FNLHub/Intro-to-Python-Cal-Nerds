{
  "cells": [
    {
      "cell_type": "markdown",
      "metadata": {
        "id": "view-in-github",
        "colab_type": "text"
      },
      "source": [
        "<a href=\"https://colab.research.google.com/github/FNLHub/Intro-to-Python-Cal-Nerds/blob/main/2024/Intro_to_Python_Day_2.ipynb\" target=\"_parent\"><img src=\"https://colab.research.google.com/assets/colab-badge.svg\" alt=\"Open In Colab\"/></a>"
      ]
    },
    {
      "cell_type": "markdown",
      "metadata": {
        "id": "b-xOBkXRfc5r"
      },
      "source": [
        "# Intro to Python (Part II)\n",
        "\n",
        "\n",
        "\n",
        "---\n",
        "<img src=\"https://calnerds.berkeley.edu/css/images/logo.jpg\"  /> <!--style=\"width: 500px; height: 275px;\"-->\n",
        "\n",
        "\n",
        "\n",
        "### Introduction to Python\n",
        "\n",
        "\n",
        "\n",
        "---\n",
        "<!--\n",
        "### Topics Covered\n",
        "- Variable Assignment\n",
        "- Strings\n",
        "- Numerals\n",
        "- Lists, Arrays, and Tuples\n",
        "- Built-ins\n",
        "- Dictionaries\n",
        "- Loops\n",
        "- Conditionals\n",
        "- Functions\n",
        "- Libraries\n",
        "- Files\n",
        "- Errors\n",
        "- Comprehensions\n",
        "-->\n",
        "\n",
        "### Table of Contents\n",
        "\n",
        "\n",
        "1 - [Conditionals](#section2)<br>  \n",
        "\n",
        "2 - [Loops](#section3) <br>\n",
        "\n",
        "&nbsp;&nbsp;&nbsp;&nbsp;&nbsp;&nbsp; a - [For Loops](#subsection9)<br>\n",
        "\n",
        "&nbsp;&nbsp;&nbsp;&nbsp;&nbsp;&nbsp; b - [While Loops](#subsection10)<br>\n",
        "\n",
        "3 - [Functions](#section4)<br>\n",
        "\n",
        "<!--5 - [Files](#section5)<br> - read, write, edit and save-->\n",
        "\n",
        "4 - [Libraries](#section5)<br>\n",
        "\n",
        "<!--9 - [Errors](#section9)<br> -->\n",
        "\n",
        "<!--8 - [Comprehensions](#section8)<br>-->\n",
        "\n",
        "\n",
        "**Dependencies:**"
      ]
    },
    {
      "cell_type": "code",
      "execution_count": null,
      "metadata": {
        "id": "FC9vvZrbfc5x"
      },
      "outputs": [],
      "source": [
        "import numpy as np\n",
        "import pandas as pd\n",
        "import math"
      ]
    },
    {
      "cell_type": "markdown",
      "metadata": {
        "id": "hGiTzjXRfc5z"
      },
      "source": [
        "---\n",
        "# Conditionals <a id='section2'></a>"
      ]
    },
    {
      "cell_type": "markdown",
      "metadata": {
        "id": "EW606tVifc50"
      },
      "source": [
        "Why do we care about conditionals?\n",
        "- Use conditionals statements to control when you want a block of code to execute.\n",
        "    - if x < 2:\n",
        "        print(\"Hello\")\n",
        "- Use inside loops\n",
        "- Output is a boolean data type.\n"
      ]
    },
    {
      "cell_type": "code",
      "execution_count": null,
      "metadata": {
        "id": "qB7JNm8Vfc50"
      },
      "outputs": [],
      "source": [
        "# EXAMPLE\n",
        "\n",
        "0 < -1"
      ]
    },
    {
      "cell_type": "code",
      "execution_count": null,
      "metadata": {
        "id": "d04nel4Afc51"
      },
      "outputs": [],
      "source": [
        "# EXAMPLE\n",
        "\n",
        "abs(-2) < abs(2)"
      ]
    },
    {
      "cell_type": "markdown",
      "metadata": {
        "id": "uDA53m5-fc51"
      },
      "source": [
        "Now, let's check the type of each of the examples above. We will using the **type** function."
      ]
    },
    {
      "cell_type": "code",
      "execution_count": null,
      "metadata": {
        "id": "s_Tc2mGzfc52"
      },
      "outputs": [],
      "source": [
        "# EXAMPLE\n",
        "type(0 < -1)"
      ]
    },
    {
      "cell_type": "code",
      "execution_count": null,
      "metadata": {
        "id": "8Zaj_mjXfc52"
      },
      "outputs": [],
      "source": [
        "# EXAMPLE\n",
        "type(abs(-2) < abs(2))"
      ]
    },
    {
      "cell_type": "markdown",
      "metadata": {
        "id": "wtKIqlpCfc52"
      },
      "source": [
        "## Operators\n",
        "Here is a list with more **operators**!\n",
        "\n",
        "|Operator| Meaning|\n",
        "|--------|---------|\n",
        "|< | less than |\n",
        "|<= | lass than or equal to|\n",
        "|> | greater than |\n",
        "|>= | greater than or equal to|\n",
        "|!= | not equal to|\n",
        "|== | equal to|"
      ]
    },
    {
      "cell_type": "markdown",
      "metadata": {
        "id": "Jst6l2uCfc53"
      },
      "source": [
        "Let's try some excercises:"
      ]
    },
    {
      "cell_type": "markdown",
      "metadata": {
        "id": "3Xl6KSvpfc53"
      },
      "source": [
        "**Exercise 1**  How would you check if the number four is equal to the string four in code using conditionals."
      ]
    },
    {
      "cell_type": "code",
      "execution_count": null,
      "metadata": {
        "id": "PBBQ8qPUfc54"
      },
      "outputs": [],
      "source": [
        "# YOUR CODE\n"
      ]
    },
    {
      "cell_type": "markdown",
      "metadata": {
        "id": "ATC4Cp-Ffc54"
      },
      "source": [
        "**Exercise 2**  How would you check if the number two is equal to 1 + 1 in code using conditionals."
      ]
    },
    {
      "cell_type": "code",
      "execution_count": null,
      "metadata": {
        "id": "KcSExUWIfc54"
      },
      "outputs": [],
      "source": [
        "# YOUR CODE\n"
      ]
    },
    {
      "cell_type": "markdown",
      "metadata": {
        "id": "eiW-lsc0fc55"
      },
      "source": [
        "**Exercise 3**  How would you check if False is equal to zero in code using conditionals."
      ]
    },
    {
      "cell_type": "code",
      "execution_count": null,
      "metadata": {
        "id": "Cu_JCtj5fc56"
      },
      "outputs": [],
      "source": [
        "# YOUR CODE\n"
      ]
    },
    {
      "cell_type": "markdown",
      "metadata": {
        "id": "I-fDUiepfc56"
      },
      "source": [
        "**Exercise 4** How would you express \"x is in the interval 28 to 50, exclusive\"? Let x be equal to 30."
      ]
    },
    {
      "cell_type": "code",
      "execution_count": null,
      "metadata": {
        "id": "4d4rlQePfc57"
      },
      "outputs": [],
      "source": [
        "# YOUR CODE\n",
        "x = 30\n",
        "..."
      ]
    },
    {
      "cell_type": "markdown",
      "metadata": {
        "id": "bXGk4PVSfc57"
      },
      "source": [
        "\n",
        "## A conditional statement\n",
        "\n",
        "A conditional statement has the following form:\n",
        "\n",
        "`if <condition>:`\n",
        "\n",
        "`____<do_something>`\n",
        "\n",
        "`elif <condition>:`\n",
        "\n",
        "`____<do_something>`\n",
        "\n",
        "`else:`\n",
        "\n",
        "`____<do_something>`\n",
        "        \n",
        "                 \n",
        "The **condition** called **expressions** and **do_something** are called **suite**. (Don' worry about terminology for now.)"
      ]
    },
    {
      "cell_type": "code",
      "execution_count": null,
      "metadata": {
        "id": "8OCjAGIXfc58"
      },
      "outputs": [],
      "source": [
        "# EXAMPLE\n",
        "\n",
        "if 5 < 6:\n",
        "    print(\"True. 5 is less than 6!\")\n",
        "else:\n",
        "    print(\"False. What is math?\")"
      ]
    },
    {
      "cell_type": "markdown",
      "metadata": {
        "id": "zKPzRQspfc58"
      },
      "source": [
        "**How do conditional statements work?**\n",
        "* First, it evaluated the header expression(which is the `if` statement). If the statement is True, then it executes the first suite otherwise, it checks the condition of the `elif`, and so on.\n",
        "* It will only execute the suite (do_something) of the `else` clause, if the conditions of the `if` and `elif` are false (not met).\n",
        "\n",
        "\n",
        "**Some notes about conditional statements:**\n",
        "* You can have as many `elif` expressions as you want, but you can only have one `if` and one `else` statement.\n",
        "* `else` always comes at the end.\n",
        "* You do not always need and `else`.\n",
        "* When you execute a conditional statement, you must ALWAYS consider the order of you statements."
      ]
    },
    {
      "cell_type": "code",
      "execution_count": null,
      "metadata": {
        "id": "MO9qrePkfc59"
      },
      "outputs": [],
      "source": [
        "# EXAMPLE\n",
        "\n",
        "if len(\"Karla\") == 5:\n",
        "    print(\"Hello, 5!\")\n",
        "else:\n",
        "    print(\"Hello,6!\")"
      ]
    },
    {
      "cell_type": "code",
      "execution_count": null,
      "metadata": {
        "id": "9w3j6QlHfc59"
      },
      "outputs": [],
      "source": [
        "# EXAMPLE\n",
        "\n",
        "fizzbuzz = 21\n",
        "if fizzbuzz % 3 == 0 and fizzbuzz % 5 == 0:\n",
        "    print(\"fizzbuzz\")\n",
        "elif fizzbuzz % 3 == 0:\n",
        "    print(\"fizz\")\n",
        "elif fizzbuzz % 5 == 0:\n",
        "    print(\"buzz\")\n"
      ]
    },
    {
      "cell_type": "code",
      "execution_count": null,
      "metadata": {
        "id": "EtuBNnBNfc5-"
      },
      "outputs": [],
      "source": [
        "# EXERCISE\n",
        "\n",
        "# if the strings is equal to NERDS, print \"Cal NERDS\", if not print \"Geek\".\n",
        "string1 = \"NERDS\"\n",
        "\n",
        "if ...:\n",
        "    print(\"Cal NERDS\")\n",
        "else:\n",
        "    print(\"...\")\n",
        "\n"
      ]
    },
    {
      "cell_type": "code",
      "execution_count": null,
      "metadata": {
        "id": "rRtDaeTPfc5_"
      },
      "outputs": [],
      "source": [
        "# Once you completed the code above, try it with a new string where the string is NOT \"NERDS\".\n",
        "# We have suggeste string2.\n",
        "\n",
        "string2 = \"NOT A NERD\"\n",
        "# COPY CODE FROM ABOVE BUT CHANGE STRING1 to STRING2\n",
        "\n",
        "...\n",
        "\n"
      ]
    },
    {
      "cell_type": "code",
      "source": [
        "####### Break time display ########\n",
        "# Do not modify\n",
        "from IPython.display import display\n",
        "from IPython.core.display import HTML\n",
        "from time import sleep\n",
        "\n",
        "MINUTES = 15\n",
        "seconds_remaining = int(MINUTES*60)\n",
        "dh = display(HTML(\"<h3 style=\\\"color: black\\\">Break Time Remaining:</h3><h1 style=\\\"color: gold\\\">\"\n",
        "                  + str(seconds_remaining // 60) + ' min </h1><h1 style=\\\"color: blue\\\">'\n",
        "                  + str(seconds_remaining % 60) + ' sec' + \"</h1>\"), display_id=True)\n",
        "\n",
        "for i in range(seconds_remaining + 1):\n",
        "    sleep(1)\n",
        "    dh.update(HTML(\"<h3 style=\\\"color: black\\\">Break Time Remaining:</h3><h1 style=\\\"color: gold\\\">\"\n",
        "                   + str(seconds_remaining // 60) + ' min </h1><h1 style=\\\"color: blue\\\">'\n",
        "                   + str(seconds_remaining % 60) + ' sec' + \"</h1>\"))\n",
        "    seconds_remaining -= 1\n",
        "\n",
        "dh.update(HTML('<h1 style=\\\"color: gold\\\"> Welcome Back!</h>'))"
      ],
      "metadata": {
        "id": "NrjKeYM25a-2"
      },
      "execution_count": null,
      "outputs": []
    },
    {
      "cell_type": "markdown",
      "metadata": {
        "id": "DTMrgA8cfc5_"
      },
      "source": [
        "---\n",
        "# Loops <a id='section3'></a>"
      ]
    },
    {
      "cell_type": "markdown",
      "metadata": {
        "id": "ty8mmi23fc5_"
      },
      "source": [
        "What are loops useful for?\n",
        "- Sometimes we want to perform some operation on a list, or tuple, but doing it on each element individually can be very tedious!\n",
        "- A loop goes through a collection of data types and **executes** some state statement **for each value** in that collection of data.\n",
        "- Examples of data types are: list, array, characters string, tuple, dictionary, and other collections"
      ]
    },
    {
      "cell_type": "markdown",
      "metadata": {
        "id": "VLfRy5Tlfc6A"
      },
      "source": [
        "---\n",
        "## \"For\" Loops <a id='subsection9'></a>"
      ]
    },
    {
      "cell_type": "markdown",
      "metadata": {
        "id": "lr1kZ6qbfc6A"
      },
      "source": [
        "Syntax:\n",
        "\n",
        "\n",
        "`if <condition>:`\n",
        "\n",
        "`for <variable> in <iterable>:`\n",
        "\n",
        "`____<statement>`\n",
        "\n",
        "`____<statement>`\n",
        "\n",
        "`else:`\n",
        "\n",
        "`____<statement>`\n",
        "    \n",
        "* var - it takes items from iterable one by one.\n",
        "* iterable - it's a collection of objects (list tuple)\n",
        "* indentation - loop body MUST be indented\n",
        "* loop body - first two statements\n",
        "* else clause - last statement.\n"
      ]
    },
    {
      "cell_type": "code",
      "execution_count": null,
      "metadata": {
        "id": "rLgT6sjhfc6A"
      },
      "outputs": [],
      "source": [
        "# EXAMPLE\n",
        "\n",
        "# square each value in the tuple\n",
        "\n",
        "for x in [1, 2, 3]:\n",
        "    print(x**2)\n"
      ]
    },
    {
      "cell_type": "code",
      "execution_count": null,
      "metadata": {
        "id": "NEC5bMdefc6B"
      },
      "outputs": [],
      "source": [
        "# EXAMPLE\n",
        "\n",
        "# print each item in the list.\n",
        "# recall that the elements in the list do not have to have the same type\n",
        "\n",
        "for x in [1, 2.0, \"k\"]:\n",
        "    print(x)\n",
        "x"
      ]
    },
    {
      "cell_type": "markdown",
      "metadata": {
        "id": "1cReV_qlfc6B"
      },
      "source": [
        "Create a for-loop that multiplies every number in the list by 3 (and outputs it on every step)."
      ]
    },
    {
      "cell_type": "code",
      "execution_count": null,
      "metadata": {
        "id": "gqGCL4eUfc6C"
      },
      "outputs": [],
      "source": [
        "# EXERCISE\n",
        "\n",
        "numbers = [1, 5, 7, 0, 10, 4, 7]\n",
        "\n",
        "for num in ...:\n",
        "    ..."
      ]
    },
    {
      "cell_type": "code",
      "execution_count": null,
      "metadata": {
        "id": "GH-SeTVFfc6D"
      },
      "outputs": [],
      "source": [
        "# EXAMPLE\n",
        "\n",
        "# print each animal in the animals list\n",
        "\n",
        "animals = [\"dog\", \"cat\", \"bird\", \"fish\", \"bear\"]\n",
        "new_animal = []\n",
        "\n",
        "for animal in animals:\n",
        "    print(new_animal)\n",
        "    new_animal.append(animal)\n",
        "    print(new_animal)"
      ]
    },
    {
      "cell_type": "code",
      "execution_count": null,
      "metadata": {
        "id": "CfkZSx73fc6E"
      },
      "outputs": [],
      "source": [
        "# EXAMPLE\n",
        "\n",
        "\n",
        "# calculate the area for circles with different radius\n",
        "# you can save the list in variable before iterating over it\n",
        "radii = [1, 3, 5, 7, 9]\n",
        "\n",
        "for radius in radii:\n",
        "    area = math.pi * radius**2\n",
        "    new_area = area + 50\n",
        "    print(new_area)\n",
        "\n",
        "area"
      ]
    },
    {
      "cell_type": "code",
      "execution_count": null,
      "metadata": {
        "id": "EhwrhD0kfc6F"
      },
      "outputs": [],
      "source": [
        "# EXAMPLE\n",
        "\n",
        "# change each letter in the random_sentence from lower to upper case\n",
        "random_sentence = \"A very long word\"\n",
        "\n",
        "for letter in random_sentence:\n",
        "    print(letter.upper())"
      ]
    },
    {
      "cell_type": "markdown",
      "metadata": {
        "id": "W3fY4ywSfc6G"
      },
      "source": [
        "As we mentioned before, you can loop through any iterable data type or data sctructure. That means that we can even loop through dictionaries."
      ]
    },
    {
      "cell_type": "code",
      "execution_count": null,
      "metadata": {
        "id": "8EqFUr4yfc6G"
      },
      "outputs": [],
      "source": [
        "# EXAMPLE\n",
        "\n",
        "cities = {'New York': 1, 'Los Angeles': 2, 'Miami': 3, 'Chicago': 4}\n",
        "\n",
        "for key in cities:\n",
        "    print(key)"
      ]
    },
    {
      "cell_type": "markdown",
      "metadata": {
        "id": "Os0GD0KVfc6G"
      },
      "source": [
        "In the cell below, try looping through the values instead of keys."
      ]
    },
    {
      "cell_type": "code",
      "execution_count": null,
      "metadata": {
        "id": "q_7PK9bUfc6H"
      },
      "outputs": [],
      "source": [
        "# EXERCISE\n",
        "\n",
        "for value in cities:\n",
        "    print(...)"
      ]
    },
    {
      "cell_type": "markdown",
      "metadata": {
        "id": "L9V_bmHDfc6H"
      },
      "source": [
        "---\n",
        "### \"While\" Loops  <a id='subsection10'></a>"
      ]
    },
    {
      "cell_type": "markdown",
      "metadata": {
        "id": "ZSxGRIS5fc6I"
      },
      "source": [
        "Syntax:\n",
        "\n",
        "`while condition:`\n",
        "\n",
        "`____statement`\n",
        "\n",
        "`____statement`\n",
        "    \n",
        "`else:`\n",
        "\n",
        "`____statement`\n",
        "    \n",
        "* condition - any expression that evaluates to true or false (so, our conditionals!)\n",
        "* loop body - first and second statements. It is excludes as long as the condition is true.\n",
        "* else clause - it is executed if the condition becomes false\n",
        "* indentation - loop body must be indented."
      ]
    },
    {
      "cell_type": "code",
      "execution_count": null,
      "metadata": {
        "id": "HK4LJDVVfc6I"
      },
      "outputs": [],
      "source": [
        "# EXAMPLE\n",
        "\n",
        "# Iterate until x becomes 0\n",
        "x = 10\n",
        "while x > 0:\n",
        "    print(x)\n",
        "    x = x - 1"
      ]
    },
    {
      "cell_type": "code",
      "execution_count": null,
      "metadata": {
        "id": "Lb5HdZBGfc6J"
      },
      "outputs": [],
      "source": [
        "# EXAMPLE\n",
        "\n",
        "# iterates until the string is empty\n",
        "x = 'I can code!'\n",
        "while len(x) > 0:\n",
        "    print(x)\n",
        "    x = x[1 : ]"
      ]
    },
    {
      "cell_type": "code",
      "execution_count": null,
      "metadata": {
        "id": "HuYxHxCIfc6J"
      },
      "outputs": [],
      "source": [
        "# EXAMPLE\n",
        "\n",
        "x = 10\n",
        "while x > 0:\n",
        "    print(x)\n",
        "    x = x - 1\n",
        "else:\n",
        "    print('Done with my countdown!')"
      ]
    },
    {
      "cell_type": "code",
      "execution_count": null,
      "metadata": {
        "id": "L0PjtYRPfc6J"
      },
      "outputs": [],
      "source": [
        "# EXERCISE\n",
        "\n",
        "# Create a while loop that skips even numbers and squares it\n",
        "\n",
        "x = 10\n",
        "while ...:\n",
        "    ...\n",
        "    ...\n",
        "    if x % 2 != 0 :\n",
        "        ..."
      ]
    },
    {
      "cell_type": "markdown",
      "metadata": {
        "id": "8jj3yl3Vfc6K"
      },
      "source": [
        "---"
      ]
    },
    {
      "cell_type": "markdown",
      "metadata": {
        "id": "XOG2BkQdfc6K"
      },
      "source": [
        "---\n",
        "# Functions<a id='section4'></a>"
      ]
    },
    {
      "cell_type": "markdown",
      "metadata": {
        "id": "SGfmK9UJfc6K"
      },
      "source": [
        "### Built-in Functions"
      ]
    },
    {
      "cell_type": "markdown",
      "metadata": {
        "id": "J3x73OR6fc6K"
      },
      "source": [
        "Python does not have a lot of built-in (aka available by default) functions and methods. But it does have some. We will go over a few useful functions and methods that will be good for you to know.\n",
        "\n"
      ]
    },
    {
      "cell_type": "markdown",
      "metadata": {
        "id": "Ajttis2mfc6L"
      },
      "source": [
        "If something is a function, it will appear in green color."
      ]
    },
    {
      "cell_type": "code",
      "execution_count": null,
      "metadata": {
        "id": "jiE9tDntfc6L"
      },
      "outputs": [],
      "source": [
        "# EXAMPLE\n",
        "\n",
        "max(2, 5, 9, 7)"
      ]
    },
    {
      "cell_type": "code",
      "execution_count": null,
      "metadata": {
        "id": "GFBaVN-Jfc6L"
      },
      "outputs": [],
      "source": [
        "# EXAMPLE\n",
        "\n",
        "min(3, 7)"
      ]
    },
    {
      "cell_type": "markdown",
      "metadata": {
        "id": "T4giiPPEfc6L"
      },
      "source": [
        "How will this function work with textual information (aka strings)?\n",
        "Pause for a moment to answer this question before you run this cell."
      ]
    },
    {
      "cell_type": "code",
      "execution_count": null,
      "metadata": {
        "id": "xApHIgzofc6L"
      },
      "outputs": [],
      "source": [
        "# EXAMPLE\n",
        "\n",
        "max(\"dog\", \"Dog\")"
      ]
    },
    {
      "cell_type": "markdown",
      "metadata": {
        "id": "dV7oJ5ypfc6M"
      },
      "source": [
        "Another built-in function you will most likely use in your coding a lot, is  **len(   )**. It is used to learn about the length of different objects."
      ]
    },
    {
      "cell_type": "code",
      "execution_count": null,
      "metadata": {
        "id": "g7a0reZzfc6M"
      },
      "outputs": [],
      "source": [
        "# EXAMPLE\n",
        "\n",
        "len(\"dog\")"
      ]
    },
    {
      "cell_type": "code",
      "execution_count": null,
      "metadata": {
        "id": "sTn77Mfkfc6M"
      },
      "outputs": [],
      "source": [
        "# EXERCISE\n",
        "\n",
        "# what do you think this cell will output?\n",
        "\n",
        "\n",
        "len(\"dog \")"
      ]
    },
    {
      "cell_type": "markdown",
      "metadata": {
        "id": "3CjQV2tLfc6M"
      },
      "source": [
        "When used with lists, it counts only the \"outter\" objects. Meaning, if there are lists or arrays inside of your list, no matter however many objects each of them has, the len(  ) will count the whole list (array, tuple, dictionary) as a single object."
      ]
    },
    {
      "cell_type": "code",
      "execution_count": null,
      "metadata": {
        "id": "yyz3-Eunfc6M"
      },
      "outputs": [],
      "source": [
        "# EXAMPLE\n",
        "\n",
        "\n",
        "len([1, 3, 4])"
      ]
    },
    {
      "cell_type": "code",
      "execution_count": null,
      "metadata": {
        "id": "zwr-xHB-fc6M"
      },
      "outputs": [],
      "source": [
        "a_list = [[1, 2, 3, 4], [4, 5, 6]]\n",
        "\n",
        "# Before running this cell, can you guess the output\n",
        "# it will give you?\n",
        "\n",
        "len(a_list)"
      ]
    },
    {
      "cell_type": "markdown",
      "metadata": {
        "id": "nkMGLI8Zfc6N"
      },
      "source": [
        "In the example below, we will use a built-in method. There's no big difference between the two except for the syntax.\n",
        "\n",
        "Functions (not only the built-in ones) are usually used in the form of   \n",
        "\n",
        "**function(argument 1, argument n)**\n",
        "\n",
        "Unlike functions, methods are usually added at the end of the variable.\n",
        "\n",
        "**variable.method()**"
      ]
    },
    {
      "cell_type": "code",
      "execution_count": null,
      "metadata": {
        "id": "qI3H_rUMfc6N"
      },
      "outputs": [],
      "source": [
        "# EXAMPLE\n",
        "\n",
        "hello = \"Hello World\"\n",
        "\n",
        "print(hello.upper())\n",
        "print(hello)"
      ]
    },
    {
      "cell_type": "markdown",
      "metadata": {
        "id": "BTxpkCzTfc6N"
      },
      "source": [
        "Have you noticed that the variable **hello** didn't change? Can you think why is that?"
      ]
    },
    {
      "cell_type": "code",
      "execution_count": null,
      "metadata": {
        "id": "DZZ3SmaFfc6N"
      },
      "outputs": [],
      "source": [
        "# EXAMPLE\n",
        "\n",
        "\n",
        "hello = hello.lower()\n",
        "hello"
      ]
    },
    {
      "cell_type": "markdown",
      "metadata": {
        "id": "HITUvifzfc6N"
      },
      "source": [
        "In the cell below, create a variable **phrase** which tells us what school you go to. Then change all the letters to upper-cased letters."
      ]
    },
    {
      "cell_type": "code",
      "execution_count": null,
      "metadata": {
        "id": "_kzsKtQSfc6O"
      },
      "outputs": [],
      "source": [
        "# EXERCISE\n",
        "\n",
        "\n",
        "phrase = \"I go to ...\"\n",
        "...\n",
        "\n",
        "print(phrase)"
      ]
    },
    {
      "cell_type": "markdown",
      "metadata": {
        "id": "g6xBqMCBfc6O"
      },
      "source": [
        "### Defining Fucntions"
      ]
    },
    {
      "cell_type": "markdown",
      "metadata": {
        "id": "PDKFfmmvfc6O"
      },
      "source": [
        "A function is a block code that you can reuse to perform a specific action. In the next cell, we will be defining a simple one-line function that takes one argument."
      ]
    },
    {
      "cell_type": "code",
      "execution_count": null,
      "metadata": {
        "id": "gF7898-6fc6O"
      },
      "outputs": [],
      "source": [
        "# EXAMPLE\n",
        "\n",
        "def square(x):\n",
        "    return x**2\n",
        "\n",
        "\n",
        "a = square(3)\n",
        "a"
      ]
    },
    {
      "cell_type": "markdown",
      "metadata": {
        "id": "cSnKAwPNfc6P"
      },
      "source": [
        "Your functions can perform multiple calculations and use more than one argument. You can also incorporate for-loops, conditionals, and other functions inside of your function.\n",
        "\n",
        "\n",
        "**Note:** we won't be going over the nested functions (functions with other functions inside, but feel free to search for them)."
      ]
    },
    {
      "cell_type": "markdown",
      "metadata": {
        "id": "4Jz7Y6Npfc6P"
      },
      "source": [
        "In the cell below, we are going to define a function that will multiply the two numbers you give it only if they are not equal to each other."
      ]
    },
    {
      "cell_type": "code",
      "execution_count": null,
      "metadata": {
        "id": "K_vmyNmIfc6P"
      },
      "outputs": [],
      "source": [
        "# EXAMPLE\n",
        "\n",
        "def mult_not_eq(x, y):\n",
        "    # if the first number is not equal to the second\n",
        "    print(x, y)\n",
        "    if x != y:\n",
        "    # I will multiply them\n",
        "        return x * y\n",
        "    else:\n",
        "        print(\"Use the square function instead\")\n",
        "\n",
        "\n",
        "mult_not_eq(2, 2)"
      ]
    },
    {
      "cell_type": "markdown",
      "metadata": {
        "id": "WqTEm9O5fc6P"
      },
      "source": [
        "Now it's time for you to define a function. Create a function that will add up two numbers, but only if they are not equals."
      ]
    },
    {
      "cell_type": "code",
      "execution_count": null,
      "metadata": {
        "id": "_Zfth3Mpfc6P"
      },
      "outputs": [],
      "source": [
        "# EXERCISE\n",
        "\n",
        "def sum_not_equals(..., ...):\n",
        "    if ...:\n",
        "        return ...\n",
        "    else:\n",
        "        ...\n",
        "\n",
        "\n",
        "sum_not_equals(1, 5)"
      ]
    },
    {
      "cell_type": "markdown",
      "metadata": {
        "id": "hX4PW3rcfc6Q"
      },
      "source": [
        "---\n",
        "### Importing Libraries <a id='section5'></a>\n",
        "\n"
      ]
    },
    {
      "cell_type": "markdown",
      "metadata": {
        "id": "_fGQVU3Ufc6Q"
      },
      "source": [
        "Python is not the strongest programming language. It has very few built-in functions and methods. You can build all your functions from scratch but that is unnecessary in most cases. Python programs all over the world have already built a lot of **\"libraries\"** - collections of pre-coded functions. To use them, you normally need to install them on your computer (not needed for most if you use Anaconda) and then import it into your Jupyter Notebook."
      ]
    },
    {
      "cell_type": "code",
      "execution_count": null,
      "metadata": {
        "id": "M4RYjc52fc6Q"
      },
      "outputs": [],
      "source": [
        "# EXAMPLE\n",
        "\n",
        "import numpy as np"
      ]
    },
    {
      "cell_type": "markdown",
      "metadata": {
        "id": "vj0m2z0mfc6Q"
      },
      "source": [
        "Now that we imported **numpy** library, we can use it's functions."
      ]
    },
    {
      "cell_type": "code",
      "execution_count": null,
      "metadata": {
        "id": "cR7UknD7fc6Q"
      },
      "outputs": [],
      "source": [
        "# EXAMPLE\n",
        "\n",
        "rand_nums = [1, 5, 8, 9, 15]\n",
        "\n",
        "np.mean(rand_nums)"
      ]
    },
    {
      "cell_type": "markdown",
      "metadata": {
        "id": "S3Sui3D7fc6R"
      },
      "source": [
        "Another useful library to have is **math**. It things like cos, sin, and pi pre-saved so you can use them in your calculations."
      ]
    },
    {
      "cell_type": "code",
      "execution_count": null,
      "metadata": {
        "id": "-QW0I8f3fc6R"
      },
      "outputs": [],
      "source": [
        "# EXAMPLE\n",
        "\n",
        "import math\n",
        "\n",
        "radius = 3\n",
        "area_circle = math.pi * radius**2\n",
        "\n",
        "area_circle"
      ]
    },
    {
      "cell_type": "markdown",
      "metadata": {
        "id": "ox2qogK2fc6R"
      },
      "source": [
        "\n",
        "\n",
        "```\n",
        "# This is formatted as code\n",
        "```\n",
        "\n",
        "---\n",
        "Notebook developed by: Kseniya Usovich, Karla Palos, and Anton Bosneaga\n",
        "\n",
        "Cal NERDS GitHub: https://github.com/Cal-NERDS\n"
      ]
    },
    {
      "cell_type": "code",
      "source": [],
      "metadata": {
        "id": "AkOKhLao40qt"
      },
      "execution_count": null,
      "outputs": []
    }
  ],
  "metadata": {
    "anaconda-cloud": {},
    "kernelspec": {
      "display_name": "Python 3 (ipykernel)",
      "language": "python",
      "name": "python3"
    },
    "language_info": {
      "codemirror_mode": {
        "name": "ipython",
        "version": 3
      },
      "file_extension": ".py",
      "mimetype": "text/x-python",
      "name": "python",
      "nbconvert_exporter": "python",
      "pygments_lexer": "ipython3",
      "version": "3.8.11"
    },
    "colab": {
      "provenance": [],
      "include_colab_link": true
    }
  },
  "nbformat": 4,
  "nbformat_minor": 0
}